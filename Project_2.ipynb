{
  "nbformat": 4,
  "nbformat_minor": 0,
  "metadata": {
    "colab": {
      "provenance": [],
      "include_colab_link": true
    },
    "kernelspec": {
      "name": "python3",
      "display_name": "Python 3"
    },
    "language_info": {
      "name": "python"
    }
  },
  "cells": [
    {
      "cell_type": "markdown",
      "metadata": {
        "id": "view-in-github",
        "colab_type": "text"
      },
      "source": [
        "<a href=\"https://colab.research.google.com/github/hchung04/StrikeBallMLClassifier/blob/main/Project_2.ipynb\" target=\"_parent\"><img src=\"https://colab.research.google.com/assets/colab-badge.svg\" alt=\"Open In Colab\"/></a>"
      ]
    },
    {
      "cell_type": "code",
      "execution_count": 1,
      "metadata": {
        "id": "yJ9_3aJwAWZx",
        "colab": {
          "base_uri": "https://localhost:8080/"
        },
        "outputId": "c18a2026-fee2-44f0-a91c-2c86eb055d91"
      },
      "outputs": [
        {
          "output_type": "stream",
          "name": "stdout",
          "text": [
            "Mounted at /content/drive\n"
          ]
        }
      ],
      "source": [
        "# This code connects google Colab with your google drive allowing you to use stuff\n",
        "\n",
        "from google.colab import drive\n",
        "drive.mount('/content/drive')"
      ]
    },
    {
      "cell_type": "code",
      "source": [
        "import pandas as pd\n",
        "import glob\n",
        "import os\n",
        "import numpy as np\n",
        "from sklearn import datasets\n",
        "from sklearn import metrics\n",
        "from pandas import DataFrame\n",
        "import statistics\n",
        "from scipy.stats import norm\n",
        "from scipy.stats import f_oneway\n",
        "import csv\n",
        "import matplotlib.pyplot as plt\n",
        "from matplotlib.colors import ListedColormap\n",
        "from sklearn.model_selection import train_test_split\n",
        "from sklearn.preprocessing import StandardScaler\n",
        "from sklearn.pipeline import make_pipeline\n",
        "from sklearn.datasets import make_moons, make_circles, make_classification\n",
        "from sklearn.neural_network import MLPClassifier\n",
        "from sklearn.neighbors import KNeighborsClassifier\n",
        "from sklearn.svm import SVC\n",
        "from sklearn.gaussian_process import GaussianProcessClassifier\n",
        "from sklearn.gaussian_process.kernels import RBF\n",
        "from sklearn.tree import DecisionTreeClassifier\n",
        "from sklearn.ensemble import RandomForestClassifier, AdaBoostClassifier\n",
        "from sklearn.naive_bayes import GaussianNB\n",
        "from sklearn.discriminant_analysis import QuadraticDiscriminantAnalysis\n",
        "\n",
        "df = pd.read_csv('/content/drive/Shareddrives/Hera/Datasets/merged*.csv') #df = dataframe\n",
        "\n",
        "names = [\n",
        "    \"Nearest Neighbors\",\n",
        "    \"Linear SVM\",\n",
        "    \"RBF SVM\",\n",
        "    \"Gaussian Process\",\n",
        "    \"Decision Tree\",\n",
        "    \"Random Forest\",\n",
        "    \"Neural Net\",\n",
        "    \"AdaBoost\",\n",
        "    \"Naive Bayes\",\n",
        "    \"QDA\",\n",
        "]\n",
        "\n",
        "classifiers = [\n",
        "  # KNeighborsClassifier(3),\n",
        "  # SVC(kernel=\"linear\", C=0.025),\n",
        "  # SVC(gamma=2, C=1),\n",
        "  # GaussianProcessClassifier(1.0 * RBF(1.0)),\n",
        "  # DecisionTreeClassifier(max_depth=5),\n",
        "  # RandomForestClassifier(max_depth=5, n_estimators=10, max_features=1),\n",
        "  # MLPClassifier(alpha=1, max_iter=1000),\n",
        "  # AdaBoostClassifier(),\n",
        "  # GaussianNB(),\n",
        "  # QuadraticDiscriminantAnalysis(),\n",
        "  # LogisticRegression(multi_class='multinomial', solver='lbfgs')\n",
        "]"
      ],
      "metadata": {
        "id": "WnsV8MPkIlxS",
        "colab": {
          "base_uri": "https://localhost:8080/"
        },
        "outputId": "f28737b9-e8a2-468f-bb10-0f2227644673"
      },
      "execution_count": 2,
      "outputs": [
        {
          "output_type": "stream",
          "name": "stderr",
          "text": [
            "<ipython-input-2-b274663b9e18>:28: DtypeWarning: Columns (27,92,93,94) have mixed types. Specify dtype option on import or set low_memory=False.\n",
            "  df = pd.read_csv('/content/drive/Shareddrives/Hera/Datasets/merged*.csv') #df = dataframe\n"
          ]
        }
      ]
    },
    {
      "cell_type": "code",
      "source": [
        "# Classifying pitches as balls or strikes and removes pitches that are neither\n",
        "  # starting only with TaggedPitchType + PitchCall, PlateLocSide, PlateLocHeight\n",
        "def classify(x):\n",
        "  if x == \"StrikeCalled\":\n",
        "    return 'Strike'\n",
        "  elif x == \"BallCalled\" or x == \"HitByPitch\" or x ==\"BallinDirt\":\n",
        "    return 'Ball'\n",
        "  else:\n",
        "    return None\n",
        "\n",
        "df['Classification'] = df['PitchCall'].apply(classify)\n",
        "# Removes rows that aren't classified as a ball or strike\n",
        "df1 = df[[\"Classification\", \"PlateLocSide\", \"PlateLocHeight\"]].dropna()\n",
        "\n",
        "# excluded 'Tilt' and 'MaxHeight' for the time being\n",
        "df2 = df[[\"Classification\", \"RelSpeed\",\t\"VertRelAngle\",\t\"HorzRelAngle\",\n",
        "          \"SpinRate\",\t\"SpinAxis\",\t\"RelHeight\", \"RelSide\", \"Extension\",\n",
        "          \"VertBreak\", \"InducedVertBreak\", \"HorzBreak\",\t\"PlateLocHeight\",\n",
        "          \"PlateLocSide\",\t\"ZoneSpeed\", \"VertApprAngle\",\t\"HorzApprAngle\",\n",
        "          \"ZoneTime\",\t\"pfxx\",\t\"pfxz\",\t\"x0\",\t\"y0\",\t\"z0\",\t\"vx0\", \"vy0\",\t\"vz0\",\n",
        "          \"ax0\", \"ay0\", \"az0\", \"EffectiveVelo\",\t\"SpeedDrop\",\n",
        "          \"PitchTrajectoryXc0\",\t\"PitchTrajectoryXc1\",\t\"PitchTrajectoryXc2\",\n",
        "          \"PitchTrajectoryYc0\", \"PitchTrajectoryYc1\",\t\"PitchTrajectoryYc2\",\n",
        "          \"PitchTrajectoryZc0\",\t\"PitchTrajectoryZc1\",\n",
        "          \"PitchTrajectoryZc2\"]].dropna()"
      ],
      "metadata": {
        "id": "G0Z3zwQjZ0EY"
      },
      "execution_count": 3,
      "outputs": []
    },
    {
      "cell_type": "code",
      "source": [
        "# Finds the correlation between data values and the categorization as ball/strike\n",
        "# H0: Classification and [ColumnName] are NOT correlated\n",
        "for col in df2.columns:\n",
        "  if col != 'Classification':\n",
        "    # Finds out the PlateLocSide data for each Classification as a list\n",
        "    CategoryGroupLists=df2.groupby('Classification')[col].apply(list)\n",
        "    # Performing the ANOVA test\n",
        "    AnovaResults = f_oneway(*CategoryGroupLists)\n",
        "    if AnovaResults[1] >= 0.05:\n",
        "      df2 = df2.drop(columns=[col])"
      ],
      "metadata": {
        "id": "xYrbvryQIBav"
      },
      "execution_count": 4,
      "outputs": []
    },
    {
      "cell_type": "code",
      "source": [
        "# df2['Classification'].value_counts()\n",
        "\n",
        "msk = df2['Classification'] == 'Strike'\n",
        "num_to_oversample = len(df2) - 2*msk.sum()\n",
        "X_positive_oversample = df2[msk].sample(n=num_to_oversample, replace=True, random_state=888)\n",
        "X_train_oversample = pd.concat([df2, X_positive_oversample])\n",
        "\n",
        "# X_train_oversample['Classification'].value_counts()\n",
        "\n",
        "X = X_train_oversample.drop(columns=['Classification'])\n",
        "Y = X_train_oversample['Classification']\n",
        "X_train, X_test, y_train, y_test = train_test_split(X, Y)"
      ],
      "metadata": {
        "id": "FuTYKsRsdXvk"
      },
      "execution_count": 5,
      "outputs": []
    },
    {
      "cell_type": "code",
      "source": [
        "# from sklearn.feature_selection import SelectKBest, f_classif\n",
        "# from sklearn.pipeline import make_pipeline\n",
        "# from sklearn.svm import LinearSVC\n",
        "\n",
        "# # Anova SVM\n",
        "# anova_filter = SelectKBest(f_classif, k=\"all\")\n",
        "# clf = LinearSVC(dual=True)\n",
        "# anova_svm = make_pipeline(anova_filter, clf)\n",
        "# anova_svm.fit(X_train, y_train)\n",
        "\n",
        "# K Nearest Neighbors\n",
        "# Scale the features using StandardScaler\n",
        "# scaler = StandardScaler()\n",
        "# X_train = scaler.fit_transform(X_train)\n",
        "# X_test = scaler.transform(X_test)\n",
        "# knn = KNeighborsClassifier(n_neighbors=1)\n",
        "# knn.fit(X_train, y_train)\n",
        "\n",
        "# Linear SVM, Logistic Regression - uh did not work\n",
        "# classifier = SVC(kernel='linear', random_state=0)\n",
        "# classifier.fit(X_train, y_train)\n",
        "\n",
        "#Logistic Regression\n",
        "# from sklearn.linear_model import LogisticRegression\n",
        "# logreg = LogisticRegression()\n",
        "# logreg.fit(X_train, y_train)\n",
        "\n",
        "model = DecisionTreeClassifier()\n",
        "model.fit(X_train, y_train)"
      ],
      "metadata": {
        "colab": {
          "base_uri": "https://localhost:8080/",
          "height": 75
        },
        "id": "EK5RF4EHNT7M",
        "outputId": "cde78fae-1167-4ea2-f772-53891179e92b"
      },
      "execution_count": 6,
      "outputs": [
        {
          "output_type": "execute_result",
          "data": {
            "text/plain": [
              "DecisionTreeClassifier()"
            ],
            "text/html": [
              "<style>#sk-container-id-1 {color: black;background-color: white;}#sk-container-id-1 pre{padding: 0;}#sk-container-id-1 div.sk-toggleable {background-color: white;}#sk-container-id-1 label.sk-toggleable__label {cursor: pointer;display: block;width: 100%;margin-bottom: 0;padding: 0.3em;box-sizing: border-box;text-align: center;}#sk-container-id-1 label.sk-toggleable__label-arrow:before {content: \"▸\";float: left;margin-right: 0.25em;color: #696969;}#sk-container-id-1 label.sk-toggleable__label-arrow:hover:before {color: black;}#sk-container-id-1 div.sk-estimator:hover label.sk-toggleable__label-arrow:before {color: black;}#sk-container-id-1 div.sk-toggleable__content {max-height: 0;max-width: 0;overflow: hidden;text-align: left;background-color: #f0f8ff;}#sk-container-id-1 div.sk-toggleable__content pre {margin: 0.2em;color: black;border-radius: 0.25em;background-color: #f0f8ff;}#sk-container-id-1 input.sk-toggleable__control:checked~div.sk-toggleable__content {max-height: 200px;max-width: 100%;overflow: auto;}#sk-container-id-1 input.sk-toggleable__control:checked~label.sk-toggleable__label-arrow:before {content: \"▾\";}#sk-container-id-1 div.sk-estimator input.sk-toggleable__control:checked~label.sk-toggleable__label {background-color: #d4ebff;}#sk-container-id-1 div.sk-label input.sk-toggleable__control:checked~label.sk-toggleable__label {background-color: #d4ebff;}#sk-container-id-1 input.sk-hidden--visually {border: 0;clip: rect(1px 1px 1px 1px);clip: rect(1px, 1px, 1px, 1px);height: 1px;margin: -1px;overflow: hidden;padding: 0;position: absolute;width: 1px;}#sk-container-id-1 div.sk-estimator {font-family: monospace;background-color: #f0f8ff;border: 1px dotted black;border-radius: 0.25em;box-sizing: border-box;margin-bottom: 0.5em;}#sk-container-id-1 div.sk-estimator:hover {background-color: #d4ebff;}#sk-container-id-1 div.sk-parallel-item::after {content: \"\";width: 100%;border-bottom: 1px solid gray;flex-grow: 1;}#sk-container-id-1 div.sk-label:hover label.sk-toggleable__label {background-color: #d4ebff;}#sk-container-id-1 div.sk-serial::before {content: \"\";position: absolute;border-left: 1px solid gray;box-sizing: border-box;top: 0;bottom: 0;left: 50%;z-index: 0;}#sk-container-id-1 div.sk-serial {display: flex;flex-direction: column;align-items: center;background-color: white;padding-right: 0.2em;padding-left: 0.2em;position: relative;}#sk-container-id-1 div.sk-item {position: relative;z-index: 1;}#sk-container-id-1 div.sk-parallel {display: flex;align-items: stretch;justify-content: center;background-color: white;position: relative;}#sk-container-id-1 div.sk-item::before, #sk-container-id-1 div.sk-parallel-item::before {content: \"\";position: absolute;border-left: 1px solid gray;box-sizing: border-box;top: 0;bottom: 0;left: 50%;z-index: -1;}#sk-container-id-1 div.sk-parallel-item {display: flex;flex-direction: column;z-index: 1;position: relative;background-color: white;}#sk-container-id-1 div.sk-parallel-item:first-child::after {align-self: flex-end;width: 50%;}#sk-container-id-1 div.sk-parallel-item:last-child::after {align-self: flex-start;width: 50%;}#sk-container-id-1 div.sk-parallel-item:only-child::after {width: 0;}#sk-container-id-1 div.sk-dashed-wrapped {border: 1px dashed gray;margin: 0 0.4em 0.5em 0.4em;box-sizing: border-box;padding-bottom: 0.4em;background-color: white;}#sk-container-id-1 div.sk-label label {font-family: monospace;font-weight: bold;display: inline-block;line-height: 1.2em;}#sk-container-id-1 div.sk-label-container {text-align: center;}#sk-container-id-1 div.sk-container {/* jupyter's `normalize.less` sets `[hidden] { display: none; }` but bootstrap.min.css set `[hidden] { display: none !important; }` so we also need the `!important` here to be able to override the default hidden behavior on the sphinx rendered scikit-learn.org. See: https://github.com/scikit-learn/scikit-learn/issues/21755 */display: inline-block !important;position: relative;}#sk-container-id-1 div.sk-text-repr-fallback {display: none;}</style><div id=\"sk-container-id-1\" class=\"sk-top-container\"><div class=\"sk-text-repr-fallback\"><pre>DecisionTreeClassifier()</pre><b>In a Jupyter environment, please rerun this cell to show the HTML representation or trust the notebook. <br />On GitHub, the HTML representation is unable to render, please try loading this page with nbviewer.org.</b></div><div class=\"sk-container\" hidden><div class=\"sk-item\"><div class=\"sk-estimator sk-toggleable\"><input class=\"sk-toggleable__control sk-hidden--visually\" id=\"sk-estimator-id-1\" type=\"checkbox\" checked><label for=\"sk-estimator-id-1\" class=\"sk-toggleable__label sk-toggleable__label-arrow\">DecisionTreeClassifier</label><div class=\"sk-toggleable__content\"><pre>DecisionTreeClassifier()</pre></div></div></div></div></div>"
            ]
          },
          "metadata": {},
          "execution_count": 6
        }
      ]
    },
    {
      "cell_type": "code",
      "source": [
        "# shows classification of true positive, false positives, false negatives, and true negatives\n",
        "with open('/content/drive/Shareddrives/Hera/output.txt', \"a\") as f:\n",
        "  from sklearn.metrics import classification_report\n",
        "  target_names = ['Ball', 'Strike']\n",
        "  y_pred = model.predict(X_test)\n",
        "  # print(\"Decision Tree (default)\", file =f)\n",
        "  print(classification_report(y_test, y_pred, target_names=target_names))"
      ],
      "metadata": {
        "id": "XUuZPR2Oygyn",
        "colab": {
          "base_uri": "https://localhost:8080/"
        },
        "outputId": "b6839d5b-b0f3-4c63-e91c-6007d3182fcc"
      },
      "execution_count": 7,
      "outputs": [
        {
          "output_type": "stream",
          "name": "stdout",
          "text": [
            "              precision    recall  f1-score   support\n",
            "\n",
            "        Ball       0.96      0.92      0.94    115891\n",
            "      Strike       0.92      0.96      0.94    116023\n",
            "\n",
            "    accuracy                           0.94    231914\n",
            "   macro avg       0.94      0.94      0.94    231914\n",
            "weighted avg       0.94      0.94      0.94    231914\n",
            "\n"
          ]
        }
      ]
    }
  ]
}